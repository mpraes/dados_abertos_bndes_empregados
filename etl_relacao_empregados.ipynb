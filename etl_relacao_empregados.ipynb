{
 "cells": [
  {
   "cell_type": "code",
   "execution_count": 27,
   "metadata": {},
   "outputs": [],
   "source": [
    "import pandas as pd\n",
    "url = \"https://www.bndes.gov.br/wps/wcm/connect/site/7a6de47a-2f19-4aac-98b2-b2f82e155eb4/Rela%C3%A7%C3%A3o%2Bde%2Bempregados%2Be%2Bestagiarios%2Bpor%2Bcargo%2C%2Bfun%C3%A7%C3%A3o%2Be%2Bdata%2Bde%2Badmiss%C3%A3o+31.07.2023.csv?MOD=AJPERES&CVID=oG69.iC\"\n",
    "df = pd.read_csv(url, encoding='cp1252', sep=';')"
   ]
  },
  {
   "cell_type": "code",
   "execution_count": 28,
   "metadata": {},
   "outputs": [
    {
     "data": {
      "text/html": [
       "<div>\n",
       "<style scoped>\n",
       "    .dataframe tbody tr th:only-of-type {\n",
       "        vertical-align: middle;\n",
       "    }\n",
       "\n",
       "    .dataframe tbody tr th {\n",
       "        vertical-align: top;\n",
       "    }\n",
       "\n",
       "    .dataframe thead th {\n",
       "        text-align: right;\n",
       "    }\n",
       "</style>\n",
       "<table border=\"1\" class=\"dataframe\">\n",
       "  <thead>\n",
       "    <tr style=\"text-align: right;\">\n",
       "      <th></th>\n",
       "      <th></th>\n",
       "      <th>Unnamed: 1</th>\n",
       "      <th>Unnamed: 2</th>\n",
       "      <th>Unnamed: 3</th>\n",
       "      <th>Unnamed: 4</th>\n",
       "      <th>Unnamed: 5</th>\n",
       "      <th>Unnamed: 6</th>\n",
       "    </tr>\n",
       "  </thead>\n",
       "  <tbody>\n",
       "    <tr>\n",
       "      <th>6</th>\n",
       "      <td>RONALDO JOSE DOS SANTOS</td>\n",
       "      <td>Técnico Administrativo</td>\n",
       "      <td>Secretário de Área</td>\n",
       "      <td>AS/DEST</td>\n",
       "      <td>Departamento de Estratégia Social e Territorial</td>\n",
       "      <td>BNDES RECIFE</td>\n",
       "      <td>01/03/2010</td>\n",
       "    </tr>\n",
       "    <tr>\n",
       "      <th>7</th>\n",
       "      <td>WALSEY DE ASSIS MAGALHAES</td>\n",
       "      <td>Economista</td>\n",
       "      <td>Não atribuído</td>\n",
       "      <td>AMA/DEMAM/GEMAM3</td>\n",
       "      <td>Gerência de Meio Ambiente 3</td>\n",
       "      <td>BNDES RJ</td>\n",
       "      <td>14/01/1974</td>\n",
       "    </tr>\n",
       "    <tr>\n",
       "      <th>8</th>\n",
       "      <td>MARIA APARECIDA BASTOS GOMES</td>\n",
       "      <td>Técnico Administrativo</td>\n",
       "      <td>Não atribuído</td>\n",
       "      <td>ASN/DEPAD/GDOC</td>\n",
       "      <td>Gerência de Administração de Documentos</td>\n",
       "      <td>BNDES RJ</td>\n",
       "      <td>01/03/2010</td>\n",
       "    </tr>\n",
       "    <tr>\n",
       "      <th>9</th>\n",
       "      <td>FERNANDO DE AVEIRO GOMES CAMACHO</td>\n",
       "      <td>Técnico Administrativo</td>\n",
       "      <td>Secretário de Área</td>\n",
       "      <td>ACO/DEPCO/GCONT2</td>\n",
       "      <td>Gerência de Contabilidade 2</td>\n",
       "      <td>BNDES RJ</td>\n",
       "      <td>01/10/1974</td>\n",
       "    </tr>\n",
       "    <tr>\n",
       "      <th>10</th>\n",
       "      <td>EDMUNDO BARRETO DE ARAUJO</td>\n",
       "      <td>Operador de Reprografia</td>\n",
       "      <td>Não atribuído</td>\n",
       "      <td>ASN/DEPAD/GSEG</td>\n",
       "      <td>Gerencia de Servicos Gerais</td>\n",
       "      <td>BNDES RJ</td>\n",
       "      <td>20/09/1996</td>\n",
       "    </tr>\n",
       "  </tbody>\n",
       "</table>\n",
       "</div>"
      ],
      "text/plain": [
       "                                                   Unnamed: 1  \\\n",
       "6            RONALDO JOSE DOS SANTOS   Técnico Administrativo   \n",
       "7          WALSEY DE ASSIS MAGALHAES               Economista   \n",
       "8       MARIA APARECIDA BASTOS GOMES   Técnico Administrativo   \n",
       "9   FERNANDO DE AVEIRO GOMES CAMACHO   Técnico Administrativo   \n",
       "10         EDMUNDO BARRETO DE ARAUJO  Operador de Reprografia   \n",
       "\n",
       "            Unnamed: 2        Unnamed: 3  \\\n",
       "6   Secretário de Área           AS/DEST   \n",
       "7        Não atribuído  AMA/DEMAM/GEMAM3   \n",
       "8        Não atribuído    ASN/DEPAD/GDOC   \n",
       "9   Secretário de Área  ACO/DEPCO/GCONT2   \n",
       "10       Não atribuído    ASN/DEPAD/GSEG   \n",
       "\n",
       "                                          Unnamed: 4    Unnamed: 5  Unnamed: 6  \n",
       "6    Departamento de Estratégia Social e Territorial  BNDES RECIFE  01/03/2010  \n",
       "7                        Gerência de Meio Ambiente 3      BNDES RJ  14/01/1974  \n",
       "8            Gerência de Administração de Documentos      BNDES RJ  01/03/2010  \n",
       "9                        Gerência de Contabilidade 2      BNDES RJ  01/10/1974  \n",
       "10                       Gerencia de Servicos Gerais      BNDES RJ  20/09/1996  "
      ]
     },
     "execution_count": 28,
     "metadata": {},
     "output_type": "execute_result"
    }
   ],
   "source": [
    "df = df.iloc[6:]\n",
    "df.head()"
   ]
  },
  {
   "cell_type": "code",
   "execution_count": 32,
   "metadata": {},
   "outputs": [],
   "source": [
    "df.rename(columns={\" \":\"NOME\",\"Unnamed: 1\":\"CARGO\",\"Unnamed: 2\":\"FUNC_OP\",\"Unnamed: 3\":\"LOT_COMPL\",\"Unnamed: 4\":\"DESC_UNID_ORG\",\"Unnamed: 5\":\"LOCAL\",\"Unnamed: 6\":\"DT_ADM\"}, inplace=True)"
   ]
  },
  {
   "cell_type": "code",
   "execution_count": 37,
   "metadata": {},
   "outputs": [
    {
     "name": "stdout",
     "output_type": "stream",
     "text": [
      "<class 'pandas.core.frame.DataFrame'>\n",
      "RangeIndex: 2775 entries, 6 to 2780\n",
      "Data columns (total 7 columns):\n",
      " #   Column         Non-Null Count  Dtype \n",
      "---  ------         --------------  ----- \n",
      " 0   NOME           2774 non-null   object\n",
      " 1   CARGO          2773 non-null   object\n",
      " 2   FUNC_OP        2773 non-null   object\n",
      " 3   LOT_COMPL      2773 non-null   object\n",
      " 4   DESC_UNID_ORG  2773 non-null   object\n",
      " 5   LOCAL          2773 non-null   object\n",
      " 6   DT_ADM         2773 non-null   object\n",
      "dtypes: object(7)\n",
      "memory usage: 151.9+ KB\n"
     ]
    }
   ],
   "source": [
    "df.info()"
   ]
  },
  {
   "cell_type": "code",
   "execution_count": 38,
   "metadata": {},
   "outputs": [],
   "source": [
    "import pyodbc\n",
    "\n",
    "server = 'IBM-PF35VRSP' \n",
    "database = 'ST_EMP_BNDES' \n",
    "username = 'sa' \n",
    "password = '@1q2w3e4r' "
   ]
  }
 ],
 "metadata": {
  "kernelspec": {
   "display_name": "Python 3",
   "language": "python",
   "name": "python3"
  },
  "language_info": {
   "codemirror_mode": {
    "name": "ipython",
    "version": 3
   },
   "file_extension": ".py",
   "mimetype": "text/x-python",
   "name": "python",
   "nbconvert_exporter": "python",
   "pygments_lexer": "ipython3",
   "version": "3.10.8"
  },
  "orig_nbformat": 4
 },
 "nbformat": 4,
 "nbformat_minor": 2
}
